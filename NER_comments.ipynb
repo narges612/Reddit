{
 "cells": [
  {
   "cell_type": "code",
   "execution_count": 15,
   "id": "b87fcb72-21da-472b-ba38-3c30ff78a83d",
   "metadata": {},
   "outputs": [],
   "source": [
    "import pandas as pd\n",
    "import csv\n",
    "import warnings\n",
    "import openpyxl\n",
    "warnings.filterwarnings(\"ignore\")"
   ]
  },
  {
   "cell_type": "code",
   "execution_count": 17,
   "id": "34b3fe95",
   "metadata": {},
   "outputs": [],
   "source": [
    "from glob import glob"
   ]
  },
  {
   "cell_type": "code",
   "execution_count": 18,
   "id": "05f898e7",
   "metadata": {},
   "outputs": [],
   "source": [
    "all_excel_files = glob(\"comments_reddit/*.xlsx\")\n",
    "\n",
    "df = pd.concat(pd.read_excel(excel_file,index_col=[0]) for excel_file in all_excel_files)"
   ]
  },
  {
   "cell_type": "code",
   "execution_count": null,
   "id": "b6490ad9",
   "metadata": {},
   "outputs": [],
   "source": [
    "#extract the english coments\n",
    "from langdetect import detect, detect_langs\n",
    "list_index=[]\n",
    "for index,row in df.iterrows():\n",
    "    try:\n",
    "        language = detect(row['body'])\n",
    "        if language=='en':\n",
    "            list_index.append(index)\n",
    "    except:\n",
    "        pass"
   ]
  },
  {
   "cell_type": "code",
   "execution_count": 21,
   "id": "febbf7d0",
   "metadata": {},
   "outputs": [],
   "source": [
    "df_en=df[df.index.isin(list_index)]"
   ]
  },
  {
   "cell_type": "code",
   "execution_count": 27,
   "id": "2e90fd84",
   "metadata": {},
   "outputs": [],
   "source": [
    "texts = list(df_en['body'])"
   ]
  },
  {
   "cell_type": "code",
   "execution_count": null,
   "id": "cc724887",
   "metadata": {},
   "outputs": [],
   "source": [
    "#NER with Flair to extract books' names\n",
    "\n",
    "from flair.models import SequenceTagger\n",
    "from flair.data import Sentence\n",
    "\n",
    "# Load the pre-trained NER tagger from Flair\n",
    "tagger = SequenceTagger.load(\"ner\")\n",
    "\n",
    "# Function to process a batch of texts\n",
    "def process_batch(texts):\n",
    "    sentences = [Sentence(str(text)) for text in texts]  # Create Sentence objects\n",
    "    tagger.predict(sentences)  # Predict NER tags for the batch\n",
    "\n",
    "    # Extract 'MISC' entities\n",
    "    batch_misc_entities = []\n",
    "    for sentence in sentences:\n",
    "        for entity in sentence.get_spans('ner'):\n",
    "            if entity.tag == 'MISC' and 4 <= len(entity.text) <= 40:\n",
    "                batch_misc_entities.append(entity.text)\n",
    "    return batch_misc_entities\n",
    "\n",
    "# Main processing loop with batching\n",
    "def extract_misc_entities(texts, batch_size=500):\n",
    "    misc_entities = []\n",
    "    for i in range(0, len(texts), batch_size):\n",
    "        batch_texts = texts[i:i + batch_size]\n",
    "        misc_entities.extend(process_batch(batch_texts))\n",
    "        if i % 10000 == 0:  # Progress logging\n",
    "            print(f\"Processed {i} records...\")\n",
    "    return misc_entities\n",
    "\n",
    "# Use the function\n",
    "misc_entities = extract_misc_entities(texts, batch_size=500)\n"
   ]
  },
  {
   "cell_type": "code",
   "execution_count": 28,
   "id": "33aa831a",
   "metadata": {},
   "outputs": [],
   "source": [
    "#NER with Spacy to extract books' names\n",
    "\n",
    "import spacy\n",
    "nlp = spacy.load(\"en_core_web_sm\")\n",
    "\n",
    "def extract_work_of_art(texts):\n",
    "    results = []\n",
    "    for text in texts:\n",
    "        doc = nlp(str(text))  # Process the text with spaCy\n",
    "        work_of_art_entities = [ent.text for ent in doc.ents if ent.label_ == \"WORK_OF_ART\"]\n",
    "        results.append(work_of_art_entities)\n",
    "    return results\n",
    "\n",
    "\n",
    "entities = extract_work_of_art(texts)"
   ]
  },
  {
   "cell_type": "code",
   "execution_count": null,
   "id": "1d8e0cf7",
   "metadata": {},
   "outputs": [],
   "source": []
  }
 ],
 "metadata": {
  "kernelspec": {
   "display_name": "Python 3 (ipykernel)",
   "language": "python",
   "name": "python3"
  },
  "language_info": {
   "codemirror_mode": {
    "name": "ipython",
    "version": 3
   },
   "file_extension": ".py",
   "mimetype": "text/x-python",
   "name": "python",
   "nbconvert_exporter": "python",
   "pygments_lexer": "ipython3",
   "version": "3.10.14"
  }
 },
 "nbformat": 4,
 "nbformat_minor": 5
}
